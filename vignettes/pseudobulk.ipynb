{
 "cells": [
  {
   "cell_type": "markdown",
   "metadata": {},
   "source": [
    "This notebook implements an efficient version of pseudobulk nb-glm based differential expression analysis with DESeq2. Pseudobulk means that all reads from a single batch group (e.g. donor) get pooled into a single observation. \n",
    "\n",
    "In general, pseudobulk is statistically preferable to but much slower than Wilcoxon, especially when you need to consider covariates. A more robust but considerably slower alternative to pseudobulk is including donors as random effects. Random effects are preferable for small cell count groups but likely give similar results to pseudobulk estimates for large groups. \n",
    "\n",
    "This idea is not at all new. The earliest reference I know for is from Lun et al: \n",
    "https://genomebiology.biomedcentral.com/articles/10.1186/s13059-016-0947-7. \n",
    "\n",
    "\n",
    "A few implementation notes: \n",
    "\n",
    "1) To find markers most upregulated in a cluster, I divide samples into those in and out of the cluster. An alternative is to let each out group remain an independent pseudobulk sample. This is in fact the recommended way from Mike Love: https://support.bioconductor.org/p/118090/. While this is certainly faster than re-estimate size factors for each cluster-specific analysis, I find it gives strange results. Namely, I get more inflated p-values and significant p-values for the wrong canonical marker genes (e.g. CD14 for B cells).  \n",
    "\n",
    "2) On my laptop, it takes ~20 seconds to run do ~3000 genes from 2700 cells, 3 donors, 2 batches, and 9 cell types. "
   ]
  },
  {
   "cell_type": "markdown",
   "metadata": {},
   "source": [
    "# Load some data"
   ]
  },
  {
   "cell_type": "code",
   "execution_count": 1,
   "metadata": {},
   "outputs": [],
   "source": [
    "suppressPackageStartupMessages({\n",
    "    library(tidyverse)\n",
    "#     library(presto)\n",
    "    library(singlecellmethods)\n",
    "    library(SeuratData)\n",
    "    library(Seurat)\n",
    "    library(DESeq2)    \n",
    "})\n",
    "\n",
    "fig.size <- function (h, w) \n",
    "{\n",
    "    options(repr.plot.height = h, repr.plot.width = w)\n",
    "}"
   ]
  },
  {
   "cell_type": "markdown",
   "metadata": {},
   "source": [
    "Load small dataset for exposition"
   ]
  },
  {
   "cell_type": "code",
   "execution_count": 2,
   "metadata": {},
   "outputs": [],
   "source": [
    "if (!SeuratData::AvailableData()['pbmc3k.SeuratData', 'Installed']) {\n",
    "    SeuratData::InstallData(\"pbmc3k\")\n",
    "}\n",
    "data(\"pbmc3k\")"
   ]
  },
  {
   "cell_type": "markdown",
   "metadata": {},
   "source": [
    "Add fake donor and batch columns"
   ]
  },
  {
   "cell_type": "code",
   "execution_count": 3,
   "metadata": {},
   "outputs": [],
   "source": [
    "pbmc3k@meta.data$donor <- factor(sample(LETTERS[1:3], ncol(pbmc3k), TRUE))\n",
    "pbmc3k@meta.data$batch <- factor(sample(LETTERS[1:2], ncol(pbmc3k), TRUE))"
   ]
  },
  {
   "cell_type": "code",
   "execution_count": 4,
   "metadata": {},
   "outputs": [
    {
     "data": {
      "text/html": [
       "<table>\n",
       "<caption>A data.frame: 6 × 6</caption>\n",
       "<thead>\n",
       "\t<tr><th></th><th scope=col>orig.ident</th><th scope=col>nCount_RNA</th><th scope=col>nFeature_RNA</th><th scope=col>seurat_annotations</th><th scope=col>donor</th><th scope=col>batch</th></tr>\n",
       "\t<tr><th></th><th scope=col>&lt;fct&gt;</th><th scope=col>&lt;dbl&gt;</th><th scope=col>&lt;int&gt;</th><th scope=col>&lt;fct&gt;</th><th scope=col>&lt;fct&gt;</th><th scope=col>&lt;fct&gt;</th></tr>\n",
       "</thead>\n",
       "<tbody>\n",
       "\t<tr><th scope=row>AAACATACAACCAC</th><td>pbmc3k</td><td>2419</td><td> 779</td><td>Memory CD4 T</td><td>A</td><td>A</td></tr>\n",
       "\t<tr><th scope=row>AAACATTGAGCTAC</th><td>pbmc3k</td><td>4903</td><td>1352</td><td>B           </td><td>B</td><td>B</td></tr>\n",
       "\t<tr><th scope=row>AAACATTGATCAGC</th><td>pbmc3k</td><td>3147</td><td>1129</td><td>Memory CD4 T</td><td>A</td><td>A</td></tr>\n",
       "\t<tr><th scope=row>AAACCGTGCTTCCG</th><td>pbmc3k</td><td>2639</td><td> 960</td><td>CD14+ Mono  </td><td>C</td><td>B</td></tr>\n",
       "\t<tr><th scope=row>AAACCGTGTATGCG</th><td>pbmc3k</td><td> 980</td><td> 521</td><td>NK          </td><td>C</td><td>A</td></tr>\n",
       "\t<tr><th scope=row>AAACGCACTGGTAC</th><td>pbmc3k</td><td>2163</td><td> 781</td><td>Memory CD4 T</td><td>A</td><td>B</td></tr>\n",
       "</tbody>\n",
       "</table>\n"
      ],
      "text/latex": [
       "A data.frame: 6 × 6\n",
       "\\begin{tabular}{r|llllll}\n",
       "  & orig.ident & nCount\\_RNA & nFeature\\_RNA & seurat\\_annotations & donor & batch\\\\\n",
       "  & <fct> & <dbl> & <int> & <fct> & <fct> & <fct>\\\\\n",
       "\\hline\n",
       "\tAAACATACAACCAC & pbmc3k & 2419 &  779 & Memory CD4 T & A & A\\\\\n",
       "\tAAACATTGAGCTAC & pbmc3k & 4903 & 1352 & B            & B & B\\\\\n",
       "\tAAACATTGATCAGC & pbmc3k & 3147 & 1129 & Memory CD4 T & A & A\\\\\n",
       "\tAAACCGTGCTTCCG & pbmc3k & 2639 &  960 & CD14+ Mono   & C & B\\\\\n",
       "\tAAACCGTGTATGCG & pbmc3k &  980 &  521 & NK           & C & A\\\\\n",
       "\tAAACGCACTGGTAC & pbmc3k & 2163 &  781 & Memory CD4 T & A & B\\\\\n",
       "\\end{tabular}\n"
      ],
      "text/markdown": [
       "\n",
       "A data.frame: 6 × 6\n",
       "\n",
       "| <!--/--> | orig.ident &lt;fct&gt; | nCount_RNA &lt;dbl&gt; | nFeature_RNA &lt;int&gt; | seurat_annotations &lt;fct&gt; | donor &lt;fct&gt; | batch &lt;fct&gt; |\n",
       "|---|---|---|---|---|---|---|\n",
       "| AAACATACAACCAC | pbmc3k | 2419 |  779 | Memory CD4 T | A | A |\n",
       "| AAACATTGAGCTAC | pbmc3k | 4903 | 1352 | B            | B | B |\n",
       "| AAACATTGATCAGC | pbmc3k | 3147 | 1129 | Memory CD4 T | A | A |\n",
       "| AAACCGTGCTTCCG | pbmc3k | 2639 |  960 | CD14+ Mono   | C | B |\n",
       "| AAACCGTGTATGCG | pbmc3k |  980 |  521 | NK           | C | A |\n",
       "| AAACGCACTGGTAC | pbmc3k | 2163 |  781 | Memory CD4 T | A | B |\n",
       "\n"
      ],
      "text/plain": [
       "               orig.ident nCount_RNA nFeature_RNA seurat_annotations donor\n",
       "AAACATACAACCAC pbmc3k     2419        779         Memory CD4 T       A    \n",
       "AAACATTGAGCTAC pbmc3k     4903       1352         B                  B    \n",
       "AAACATTGATCAGC pbmc3k     3147       1129         Memory CD4 T       A    \n",
       "AAACCGTGCTTCCG pbmc3k     2639        960         CD14+ Mono         C    \n",
       "AAACCGTGTATGCG pbmc3k      980        521         NK                 C    \n",
       "AAACGCACTGGTAC pbmc3k     2163        781         Memory CD4 T       A    \n",
       "               batch\n",
       "AAACATACAACCAC A    \n",
       "AAACATTGAGCTAC B    \n",
       "AAACATTGATCAGC A    \n",
       "AAACCGTGCTTCCG B    \n",
       "AAACCGTGTATGCG A    \n",
       "AAACGCACTGGTAC B    "
      ]
     },
     "metadata": {},
     "output_type": "display_data"
    }
   ],
   "source": [
    "head(pbmc3k@meta.data)"
   ]
  },
  {
   "cell_type": "code",
   "execution_count": 12,
   "metadata": {},
   "outputs": [
    {
     "name": "stderr",
     "output_type": "stream",
     "text": [
      "Loading presto\n"
     ]
    }
   ],
   "source": [
    "devtools::load_all('../R/pseudobulk.R')"
   ]
  },
  {
   "cell_type": "markdown",
   "metadata": {},
   "source": [
    "# Functions"
   ]
  },
  {
   "cell_type": "markdown",
   "metadata": {},
   "source": [
    "## Collapse to pseudobulk"
   ]
  },
  {
   "cell_type": "code",
   "execution_count": 5,
   "metadata": {},
   "outputs": [],
   "source": [
    "# compute_hash <- function(data_df, vars_use) {\n",
    "#     base <- 1\n",
    "#     hash <- rep(0, nrow(data_df))\n",
    "#     for (varname in vars_use) {\n",
    "#         vals <- factor(data.frame(data_df)[, varname, drop = TRUE])\n",
    "#         nlevel <- nlevels(vals)\n",
    "#         hash <- hash + (as.integer(vals) - 1) * base\n",
    "#         base <- base * nlevel\n",
    "#     }\n",
    "#     return(hash)\n",
    "# }\n"
   ]
  },
  {
   "cell_type": "code",
   "execution_count": 6,
   "metadata": {},
   "outputs": [],
   "source": [
    "# collapse_counts <- function(counts_mat, meta_data, varnames) {\n",
    "#     ## give each unique row a hash value for indexing\n",
    "#     hash <- compute_hash(meta_data, varnames)\n",
    "#     idx_keep <- which(!is.na(hash))\n",
    "#     hash <- hash[idx_keep]\n",
    "#     hash <- factor(sprintf('sample_%d', as.integer(hash)))\n",
    "#     meta_data <- meta_data[idx_keep, ]\n",
    "#     counts_mat <- counts_mat[, idx_keep]\n",
    "    \n",
    "#     ## one hot encoded design matrix, sample level\n",
    "#     design_collapsed <- data.frame(meta_data)[, varnames, drop = FALSE] %>% \n",
    "#         cbind(sample_id = hash) %>% \n",
    "#         unique()\n",
    "#     row.names(design_collapsed) <- design_collapsed$sample_id\n",
    "\n",
    "#     ## sum over samples\n",
    "#     counts_collapsed <- presto:::sumGroups(counts_mat, hash, 1) %>% t()\n",
    "#     row.names(counts_collapsed) <- row.names(counts_mat)\n",
    "#     colnames(counts_collapsed) <- levels(hash)\n",
    "\n",
    "#     ## reorder to match design matrix\n",
    "#     counts_collapsed <- counts_collapsed[, design_collapsed$sample_id]\n",
    "#     design_collapsed$sample_id <- NULL\n",
    "#     return(list(counts_mat = counts_collapsed, meta_data = design_collapsed))\n",
    "# }"
   ]
  },
  {
   "cell_type": "markdown",
   "metadata": {},
   "source": [
    "## DESeq2 wrappers"
   ]
  },
  {
   "cell_type": "code",
   "execution_count": 7,
   "metadata": {},
   "outputs": [],
   "source": [
    "# pseudobulk_deseq2 <- function(dge_formula, meta_data, counts_df, verbose=TRUE, \n",
    "#                    min_counts_per_sample=10, present_in_min_samples=5, collapse_background=TRUE) {\n",
    "#     message('WARNING: meta_data should only contain pseudobulk identifying variables')\n",
    "    \n",
    "#     ## filter low expressed genes\n",
    "#     genes_keep <- which(Matrix::rowSums(counts_df >= min_counts_per_sample) >= present_in_min_samples)\n",
    "#     if (verbose) {\n",
    "#         message(sprintf('Filtered out %d genes, analyzing %d genes', nrow(counts_df) - length(genes_keep), length(genes_keep)))\n",
    "#     }\n",
    "#     counts_df <- counts_df[genes_keep, ]\n",
    "    \n",
    "#     ## assume that the first variable in formula is the main contrast variable\n",
    "#     all_vars <- unlist(strsplit(tail(as.character(dge_formula), 1), split = ' \\\\+ '))\n",
    "#     if (verbose) {\n",
    "#         message(sprintf('All vars: %s', paste(all_vars, collapse = ', ')))\n",
    "#     }\n",
    "#     contrast_var <- head(all_vars, 1)\n",
    "#     if (verbose) {\n",
    "#         message(sprintf('Contrast var: %s', contrast_var))\n",
    "#     }\n",
    "#     Reduce(rbind, lapply(unique(meta_data[[contrast_var]]), function(foreground_id) {\n",
    "#         if (verbose) {\n",
    "#             message(foreground_id)      \n",
    "#         }\n",
    "#         suppressMessages({suppressWarnings({\n",
    "#             ## setup design \n",
    "#             design <- meta_data            \n",
    "#             design[[contrast_var]] <- factor(ifelse(design[[contrast_var]] == foreground_id,\n",
    "#                                                paste0('cluster_', foreground_id), \n",
    "#                                                'background'))\n",
    "            \n",
    "#             ## background clusters should not be treated as independent observations\n",
    "#             if (collapse_background) {\n",
    "#                 res <- collapse_counts(counts_df, design, colnames(design))\n",
    "#                 design <- res$meta_data\n",
    "#                 counts_df <- res$counts_mat                \n",
    "#             }\n",
    "                        \n",
    "#             ## Do DGE with DESeq2\n",
    "#             dds <- DESeqDataSetFromMatrix(\n",
    "#                 countData = counts_df,\n",
    "#                 colData = design,\n",
    "#                 design = dge_formula) %>% \n",
    "#                 DESeq2::DESeq()\n",
    "\n",
    "#             ## Get results \n",
    "#             contrast_name <- grep('cluster.*_vs_background', resultsNames(dds), value = TRUE)\n",
    "#             dge_res <- results(dds, name = contrast_name) %>% \n",
    "#                     data.frame() %>% \n",
    "#                     tibble::rownames_to_column('feature') %>% \n",
    "#                     dplyr::arrange(-stat) %>% \n",
    "#                     dplyr::mutate(group = foreground_id)\n",
    "#         })})\n",
    "#         return(dge_res)\n",
    "#     })) %>% \n",
    "#     dplyr::select(group, feature, dplyr::everything())\n",
    "\n",
    "# }"
   ]
  },
  {
   "cell_type": "code",
   "execution_count": 8,
   "metadata": {},
   "outputs": [
    {
     "ename": "ERROR",
     "evalue": "Error in pseudobulk_deseq2(~seurat_annotations + donor, data_collapsed$meta_data, : could not find function \"pseudobulk_deseq2\"\n",
     "output_type": "error",
     "traceback": [
      "Error in pseudobulk_deseq2(~seurat_annotations + donor, data_collapsed$meta_data, : could not find function \"pseudobulk_deseq2\"\nTraceback:\n"
     ]
    }
   ],
   "source": [
    "# res_mat <- pseudobulk_deseq2(~seurat_annotations + donor, data_collapsed$meta_data, data_collapsed$counts_mat, verbose = TRUE)\n"
   ]
  },
  {
   "cell_type": "code",
   "execution_count": 9,
   "metadata": {},
   "outputs": [],
   "source": [
    "# top_markers_dds <- function(res, n=10, pval_max=1, padj_max=1, lfc_min=1) {\n",
    "#     res %>% \n",
    "#         dplyr::filter(\n",
    "#             .data$pvalue <= pval_max & \n",
    "#             .data$padj <= padj_max  &\n",
    "#             log2FoldChange >= lfc_min\n",
    "#         ) %>%\n",
    "#         dplyr::group_by(.data$group) %>%\n",
    "#         dplyr::top_n(n = n, wt = .data$stat) %>% \n",
    "#         dplyr::mutate(rank = rank(-.data$stat, ties.method = 'random')) %>% \n",
    "#         dplyr::ungroup() %>% \n",
    "#         dplyr::select(.data$feature, .data$group, .data$rank) %>% \n",
    "#         tidyr::spread(.data$group, .data$feature, fill = NA) %>% \n",
    "#         identity()\n",
    "# }"
   ]
  },
  {
   "cell_type": "markdown",
   "metadata": {},
   "source": [
    "# Test "
   ]
  },
  {
   "cell_type": "markdown",
   "metadata": {},
   "source": [
    "## Collapse to pseudobulk"
   ]
  },
  {
   "cell_type": "code",
   "execution_count": 14,
   "metadata": {},
   "outputs": [],
   "source": []
  },
  {
   "cell_type": "code",
   "execution_count": 17,
   "metadata": {},
   "outputs": [
    {
     "data": {
      "text/html": [
       "<table>\n",
       "<caption>A data.frame: 6 × 3</caption>\n",
       "<thead>\n",
       "\t<tr><th></th><th scope=col>seurat_annotations</th><th scope=col>donor</th><th scope=col>batch</th></tr>\n",
       "\t<tr><th></th><th scope=col>&lt;fct&gt;</th><th scope=col>&lt;fct&gt;</th><th scope=col>&lt;fct&gt;</th></tr>\n",
       "</thead>\n",
       "<tbody>\n",
       "\t<tr><th scope=row>sample_1</th><td>Memory CD4 T</td><td>A</td><td>A</td></tr>\n",
       "\t<tr><th scope=row>sample_39</th><td>B           </td><td>B</td><td>B</td></tr>\n",
       "\t<tr><th scope=row>sample_47</th><td>CD14+ Mono  </td><td>C</td><td>B</td></tr>\n",
       "\t<tr><th scope=row>sample_24</th><td>NK          </td><td>C</td><td>A</td></tr>\n",
       "\t<tr><th scope=row>sample_28</th><td>Memory CD4 T</td><td>A</td><td>B</td></tr>\n",
       "\t<tr><th scope=row>sample_4</th><td>CD8 T       </td><td>A</td><td>A</td></tr>\n",
       "</tbody>\n",
       "</table>\n"
      ],
      "text/latex": [
       "A data.frame: 6 × 3\n",
       "\\begin{tabular}{r|lll}\n",
       "  & seurat\\_annotations & donor & batch\\\\\n",
       "  & <fct> & <fct> & <fct>\\\\\n",
       "\\hline\n",
       "\tsample\\_1 & Memory CD4 T & A & A\\\\\n",
       "\tsample\\_39 & B            & B & B\\\\\n",
       "\tsample\\_47 & CD14+ Mono   & C & B\\\\\n",
       "\tsample\\_24 & NK           & C & A\\\\\n",
       "\tsample\\_28 & Memory CD4 T & A & B\\\\\n",
       "\tsample\\_4 & CD8 T        & A & A\\\\\n",
       "\\end{tabular}\n"
      ],
      "text/markdown": [
       "\n",
       "A data.frame: 6 × 3\n",
       "\n",
       "| <!--/--> | seurat_annotations &lt;fct&gt; | donor &lt;fct&gt; | batch &lt;fct&gt; |\n",
       "|---|---|---|---|\n",
       "| sample_1 | Memory CD4 T | A | A |\n",
       "| sample_39 | B            | B | B |\n",
       "| sample_47 | CD14+ Mono   | C | B |\n",
       "| sample_24 | NK           | C | A |\n",
       "| sample_28 | Memory CD4 T | A | B |\n",
       "| sample_4 | CD8 T        | A | A |\n",
       "\n"
      ],
      "text/plain": [
       "          seurat_annotations donor batch\n",
       "sample_1  Memory CD4 T       A     A    \n",
       "sample_39 B                  B     B    \n",
       "sample_47 CD14+ Mono         C     B    \n",
       "sample_24 NK                 C     A    \n",
       "sample_28 Memory CD4 T       A     B    \n",
       "sample_4  CD8 T              A     A    "
      ]
     },
     "metadata": {},
     "output_type": "display_data"
    }
   ],
   "source": [
    "data_collapsed <- collapse_counts(pbmc3k@assays$RNA@counts, \n",
    "                                  pbmc3k@meta.data, \n",
    "                                  c('seurat_annotations', 'donor', 'batch'))\n",
    "head(data_collapsed$meta_data)"
   ]
  },
  {
   "cell_type": "markdown",
   "metadata": {},
   "source": [
    "## Do DESeq2"
   ]
  },
  {
   "cell_type": "code",
   "execution_count": null,
   "metadata": {},
   "outputs": [],
   "source": [
    "res_mat <- pseudobulk_deseq2(~seurat_annotations + donor + batch, \n",
    "                             data_collapsed$meta_data,\n",
    "                             data_collapsed$counts_mat, verbose = TRUE)\n"
   ]
  },
  {
   "cell_type": "code",
   "execution_count": null,
   "metadata": {},
   "outputs": [],
   "source": [
    "head(res_mat)"
   ]
  },
  {
   "cell_type": "code",
   "execution_count": null,
   "metadata": {},
   "outputs": [],
   "source": [
    "top_markers_dds(res_mat, lfc_min = 1, padj_max = .05)"
   ]
  },
  {
   "cell_type": "markdown",
   "metadata": {},
   "source": [
    "## Volcano plots"
   ]
  },
  {
   "cell_type": "code",
   "execution_count": null,
   "metadata": {},
   "outputs": [],
   "source": [
    "options(repr.plot.height = 6, repr.plot.width = 8)\n",
    "res_mat %>% \n",
    "    ggplot(aes(log2FoldChange, -log10(pvalue), color = padj < .01 & abs(log2FoldChange) > 1)) + \n",
    "        geom_point(shape = 21) + \n",
    "        facet_wrap(~group, scales = 'free') + \n",
    "        guides(color = FALSE) + \n",
    "        NULL"
   ]
  },
  {
   "cell_type": "markdown",
   "metadata": {},
   "source": [
    "# Comparison to Wilcoxon\n",
    "\n",
    "In this artificial example, donor and batch are fictitious, so DESeq2's GLM $\\beta$ estimates should not be that different from the Wilcoxon estimates. Here, we'll compare $\\beta$s to auROC, which is essentially equivalent to the Wilxocon statistic. "
   ]
  },
  {
   "cell_type": "code",
   "execution_count": null,
   "metadata": {},
   "outputs": [],
   "source": [
    "## Wilcoxon on CP10K normalized counts \n",
    "exprs_norm <- singlecellmethods::normalizeData(pbmc3k@assays$RNA@counts, scaling_factor = 1e4, method = 'log')\n",
    "dge_wilxocon <- wilcoxauc(exprs_norm, factor(pbmc3k@meta.data$seurat_annotations))\n"
   ]
  },
  {
   "cell_type": "code",
   "execution_count": null,
   "metadata": {},
   "outputs": [],
   "source": [
    "head(dge_wilxocon)"
   ]
  },
  {
   "cell_type": "code",
   "execution_count": null,
   "metadata": {},
   "outputs": [],
   "source": [
    "options(repr.plot.height = 6, repr.plot.width = 8)\n",
    "dplyr::inner_join(dge_wilxocon, res_mat, by = c('feature', 'group')) %>% \n",
    "    ggplot(aes(auc, stat)) + \n",
    "        geom_point(shape = '.') + \n",
    "        facet_wrap(~group, scales = 'free') + \n",
    "        geom_vline(xintercept = .5) + \n",
    "        geom_hline(yintercept = 0) + \n",
    "        labs(x = 'AUC', y = 'GLM beta') + \n",
    "        NULL"
   ]
  },
  {
   "cell_type": "markdown",
   "metadata": {},
   "source": [
    "Most of the results agree, more or less. Interestingly, the Wilcoxon labels almost all genes as upregulated in DCs and CD16+ Monocytes and downregulated in Platelets. What's going on here? It turns out that DCs and CD16+ Monos are mRNA rich cells while platelets are mRNA poor cells overall. DESeq2 is able to account for this effect better than CP10K normalization. \n"
   ]
  },
  {
   "cell_type": "code",
   "execution_count": null,
   "metadata": {},
   "outputs": [],
   "source": [
    "options(repr.plot.height = 3, repr.plot.width = 5)\n",
    "pbmc3k@meta.data %>% \n",
    "    subset(!is.na(seurat_annotations)) %>% \n",
    "    ggplot(aes(reorder(seurat_annotations, nCount_RNA), nCount_RNA)) + \n",
    "        geom_boxplot(outlier.shape = NA) + \n",
    "        geom_jitter(shape = '.', height = 0) + \n",
    "        coord_flip() + \n",
    "        labs(x = '') + \n",
    "        NULL"
   ]
  },
  {
   "cell_type": "markdown",
   "metadata": {},
   "source": [
    "# Pairwise tests"
   ]
  },
  {
   "cell_type": "markdown",
   "metadata": {},
   "source": [
    "Instead of 1-vs-all, let's do pairwise test and then summarize statistics conservatively. "
   ]
  },
  {
   "cell_type": "code",
   "execution_count": null,
   "metadata": {},
   "outputs": [],
   "source": [
    "# devtools::document('..')"
   ]
  },
  {
   "cell_type": "code",
   "execution_count": null,
   "metadata": {},
   "outputs": [],
   "source": [
    "devtools::load_all('..')"
   ]
  },
  {
   "cell_type": "code",
   "execution_count": null,
   "metadata": {},
   "outputs": [],
   "source": [
    "data_collapsed <- collapse_counts(pbmc3k@assays$RNA@counts, \n",
    "                                  pbmc3k@meta.data, \n",
    "                                  c('seurat_annotations', 'donor', 'batch'))\n",
    "head(data_collapsed$meta_data)"
   ]
  },
  {
   "cell_type": "markdown",
   "metadata": {},
   "source": [
    "BUG: when testing all vs all pairwise, crashes"
   ]
  },
  {
   "cell_type": "code",
   "execution_count": null,
   "metadata": {},
   "outputs": [],
   "source": [
    "# table(data_collapsed$meta_data$seurat_annotations)"
   ]
  },
  {
   "cell_type": "code",
   "execution_count": null,
   "metadata": {},
   "outputs": [],
   "source": [
    "res_pair <- pseudobulk_deseq2(~seurat_annotations + donor + batch, \n",
    "                             data_collapsed$meta_data,\n",
    "                             data_collapsed$counts_mat, verbose = TRUE, mode = 'pairwise')#, vals_test = c('B', 'NK'))\n"
   ]
  },
  {
   "cell_type": "code",
   "execution_count": null,
   "metadata": {},
   "outputs": [],
   "source": [
    "res_min <- summarize_dge_pairs(res_pair, 'min')\n",
    "# res_max <- summarize_dge_pairs(res_pair, 'max')"
   ]
  },
  {
   "cell_type": "code",
   "execution_count": null,
   "metadata": {},
   "outputs": [],
   "source": [
    "data.table(res_min)[, head(.SD), by = group]"
   ]
  },
  {
   "cell_type": "code",
   "execution_count": null,
   "metadata": {},
   "outputs": [],
   "source": [
    "# dge_formula <- ~seurat_annotations + donor + batch\n",
    "# meta_data <- data_collapsed$meta_data\n",
    "# counts_df <- data_collapsed$counts_mat\n",
    "# verbose = TRUE\n",
    "# contrast_var <- 'seurat_annotations'\n",
    "# vals_test <- 'B'\n"
   ]
  },
  {
   "cell_type": "code",
   "execution_count": null,
   "metadata": {},
   "outputs": [],
   "source": [
    "# dge_1va_no <- pseudobulk_one_vs_all(dge_formula, counts_df, meta_data, contrast_var, vals_test, collapse_background = FALSE, verbose = TRUE)\n",
    "# dge_1va_col <- pseudobulk_one_vs_all(dge_formula, counts_df, meta_data, contrast_var, vals_test, collapse_background = TRUE, verbose = TRUE)"
   ]
  },
  {
   "cell_type": "code",
   "execution_count": null,
   "metadata": {},
   "outputs": [],
   "source": []
  },
  {
   "cell_type": "code",
   "execution_count": null,
   "metadata": {},
   "outputs": [],
   "source": [
    "dge_pairs_min <- summarize_dge_pairs(dge_pairs, 'min')\n",
    "dge_pairs_max <- summarize_dge_pairs(dge_pairs, 'max')\n"
   ]
  },
  {
   "cell_type": "code",
   "execution_count": null,
   "metadata": {},
   "outputs": [],
   "source": [
    "## Compare to other modes"
   ]
  },
  {
   "cell_type": "code",
   "execution_count": null,
   "metadata": {},
   "outputs": [],
   "source": [
    "dge <- Reduce(rbind, list(\n",
    "    dplyr::mutate(dge_pairs_min, mode = 'Pairs_min'), \n",
    "    dplyr::mutate(dge_pairs_max, mode = 'Pairs_max'), \n",
    "    dplyr::mutate(dge_1va_col, mode = 'Onevall_collapse'), \n",
    "    dplyr::mutate(dge_1va_no, mode = 'Onevall_no')\n",
    "    )) "
   ]
  },
  {
   "cell_type": "code",
   "execution_count": null,
   "metadata": {},
   "outputs": [],
   "source": [
    "plt_df <- dge %>% \n",
    "    dplyr::select(feature, log2FoldChange, mode) %>% \n",
    "    spread(mode, log2FoldChange)\n",
    "\n",
    "plt_df <- plt_df[(rowSums(is.na(plt_df)) == 0), ]"
   ]
  },
  {
   "cell_type": "code",
   "execution_count": null,
   "metadata": {},
   "outputs": [],
   "source": [
    "library(ggforce)\n",
    "fig.size(6, 8)\n",
    "plt_df %>% \n",
    "    ggplot(aes(x = .panel_x, y = .panel_y)) + \n",
    "        geom_point(shape = '.') + \n",
    "        geom_autodensity(alpha = 0.3, position = 'identity') + \n",
    "#         geom_autodensity(position = 'identity') + \n",
    "        facet_matrix(\n",
    "            vars(Pairs_min, Pairs_max, Onevall_collapse, Onevall_no), \n",
    "            layer.diag = 2\n",
    "        ) + \n",
    "        geom_vline(aes(xintercept = 0), linetype = 2) + \n",
    "        geom_hline(aes(yintercept = 0), linetype = 2) + \n",
    "        geom_abline(aes(slope = 1, intercept = 0)) + \n",
    "        NULL"
   ]
  },
  {
   "cell_type": "code",
   "execution_count": null,
   "metadata": {},
   "outputs": [],
   "source": [
    "dge_pairs_min %>% \n",
    "    subset(stat > 0) %>% \n",
    "    dplyr::arrange(-stat) %>% \n",
    "    head()"
   ]
  },
  {
   "cell_type": "code",
   "execution_count": null,
   "metadata": {},
   "outputs": [],
   "source": [
    "dge_pairs_max %>% \n",
    "    subset(stat > 0) %>% \n",
    "    dplyr::arrange(-stat) %>% \n",
    "    head()"
   ]
  },
  {
   "cell_type": "markdown",
   "metadata": {},
   "source": [
    "# "
   ]
  },
  {
   "cell_type": "code",
   "execution_count": null,
   "metadata": {},
   "outputs": [],
   "source": []
  },
  {
   "cell_type": "code",
   "execution_count": null,
   "metadata": {},
   "outputs": [],
   "source": []
  },
  {
   "cell_type": "code",
   "execution_count": null,
   "metadata": {},
   "outputs": [],
   "source": []
  },
  {
   "cell_type": "raw",
   "metadata": {},
   "source": [
    "\n",
    "\n",
    "\n",
    "\n",
    "\n",
    "\n",
    "\n",
    "\n",
    "\n",
    "\n",
    "\n",
    "\n",
    "\n",
    "\n",
    "\n",
    "\n",
    "\n",
    "\n",
    "\n",
    "\n",
    "\n",
    "\n",
    "\n",
    "\n",
    "\n",
    "\n",
    "\n",
    "\n"
   ]
  }
 ],
 "metadata": {
  "kernelspec": {
   "display_name": "R",
   "language": "R",
   "name": "ir"
  },
  "language_info": {
   "codemirror_mode": "r",
   "file_extension": ".r",
   "mimetype": "text/x-r-source",
   "name": "R",
   "pygments_lexer": "r",
   "version": "3.6.1"
  },
  "toc-autonumbering": true
 },
 "nbformat": 4,
 "nbformat_minor": 4
}
